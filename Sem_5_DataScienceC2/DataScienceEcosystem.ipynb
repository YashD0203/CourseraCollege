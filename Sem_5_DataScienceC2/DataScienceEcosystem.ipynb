{
  "nbformat": 4,
  "nbformat_minor": 0,
  "metadata": {
    "colab": {
      "provenance": []
    },
    "kernelspec": {
      "name": "python3",
      "display_name": "Python 3"
    },
    "language_info": {
      "name": "python"
    }
  },
  "cells": [
    {
      "cell_type": "markdown",
      "source": [
        "# Data Science Ecosystem"
      ],
      "metadata": {
        "id": "zOXWujVX0VuE"
      }
    },
    {
      "cell_type": "markdown",
      "source": [
        "## Hi I am Yash"
      ],
      "metadata": {
        "id": "GkuaacOv0zal"
      }
    },
    {
      "cell_type": "markdown",
      "source": [
        "# Popular Data Science Languages\n",
        "\n",
        "Python\n",
        "\n",
        "R\n",
        "\n",
        "Matlab"
      ],
      "metadata": {
        "id": "lrnOM1KO0-BN"
      }
    },
    {
      "cell_type": "markdown",
      "source": [
        "# Popular Data Science Libraries\n",
        "\n",
        "Numpy\n",
        "\n",
        "Pandfas\n",
        "\n",
        "Sci-Kit Leaern\n",
        "\n",
        "Matplotlib\n",
        "\n",
        "Seaborn\n",
        "\n",
        "Pytorch\n",
        "\n",
        "Tensorflow\n",
        "\n",
        "Keras\n",
        "\n",
        "etc.etc.."
      ],
      "metadata": {
        "id": "SoTKVW_i1zEM"
      }
    },
    {
      "cell_type": "markdown",
      "source": [
        "| Tool                 | Description                                       |\n",
        "|----------------------|---------------------------------------------------|\n",
        "| **Python**           | A versatile programming language with rich libraries for data analysis, machine learning, and more. |\n",
        "| **R**                | A language and environment for statistical analysis and data visualization. |\n",
        "| **Jupyter Notebook** | An open-source web application for creating and sharing documents with live code, equations, visualizations, and narrative text. |\n",
        "| **NumPy**            | A fundamental package for scientific computing with support for arrays and mathematical functions. |\n",
        "| **pandas**            | A data manipulation library for data analysis, offering data structures like data frames and series. |\n",
        "| **scikit-learn**      | A machine learning library with various algorithms for classification, regression, and more. |\n",
        "| **Matplotlib**        | A data visualization library for creating static, animated, and interactive plots. |\n",
        "| **TensorFlow**        | An open-source machine learning framework for building and training deep learning models. |\n",
        "| **PyTorch**           | An open-source deep learning library with a focus on flexibility and dynamic computation. |\n",
        "| **SQL**               | A domain-specific language for querying and managing relational databases. |\n"
      ],
      "metadata": {
        "id": "UAoWArmf2GHu"
      }
    },
    {
      "cell_type": "code",
      "source": [],
      "metadata": {
        "id": "BUCd2CkN2Jy2"
      },
      "execution_count": null,
      "outputs": []
    },
    {
      "cell_type": "markdown",
      "source": [
        "# Arithmetic Expression Examples\n",
        "\n",
        "Arithmetic expressions are fundamental in mathematics and computer programming. They involve mathematical operations such as addition, subtraction, multiplication, and division to manipulate numbers and obtain results.\n",
        "\n",
        "## Addition\n",
        "\n",
        "Addition is the process of combining two or more numbers to find their sum. For example:\n",
        "\n",
        "- `2 + 3` equals 5.\n",
        "- `10 + 7` equals 17.\n",
        "\n",
        "## Subtraction\n",
        "\n",
        "Subtraction is the process of finding the difference between two numbers. For example:\n",
        "\n",
        "- `8 - 4` equals 4.\n",
        "- `15 - 9` equals 6.\n",
        "\n",
        "## Multiplication\n",
        "\n",
        "Multiplication is the process of repeated addition. It's used to find the product of two or more numbers. For example:\n",
        "\n",
        "- `5 * 4` equals 20.\n",
        "- `6 * 9` equals 54.\n",
        "\n",
        "## Division\n",
        "\n",
        "Division is the process of splitting a quantity into equal parts. It's used to find the quotient when one number is divided by another. For example:\n",
        "\n",
        "- `12 / 4` equals 3.\n",
        "- `21 / 7` equals 3.\n",
        "\n"
      ],
      "metadata": {
        "id": "MNR7YRTi2Y7U"
      }
    },
    {
      "cell_type": "code",
      "source": [
        "num_1 = 10\n",
        "num_2 = 7\n",
        "\n",
        "multi = num_1 * num_2\n",
        "Addi = num_1 + num_2\n",
        "\n",
        "print(\"Multiplication of\", num_1, \"and\", num_2, \"=\", multi)\n",
        "print(\"Addition of\", num_1, \"and\", num_2, \"=\", Addi)"
      ],
      "metadata": {
        "colab": {
          "base_uri": "https://localhost:8080/"
        },
        "id": "8tsEFmy_2cfZ",
        "outputId": "4f2fc2f5-8af5-493d-9390-410238a99632"
      },
      "execution_count": 9,
      "outputs": [
        {
          "output_type": "stream",
          "name": "stdout",
          "text": [
            "Multiplication of 10 and 7 = 70\n",
            "Addition of 10 and 7 = 17\n"
          ]
        }
      ]
    },
    {
      "cell_type": "code",
      "source": [
        "minutes = 120\n",
        "hours = minutes / 60\n",
        "print(f\"{minutes} minutes is equal to {hours} hours\")\n"
      ],
      "metadata": {
        "colab": {
          "base_uri": "https://localhost:8080/"
        },
        "id": "bB9tSQn131C6",
        "outputId": "6a0abe02-1068-4b0f-a9e6-cf1c4dc65d83"
      },
      "execution_count": 10,
      "outputs": [
        {
          "output_type": "stream",
          "name": "stdout",
          "text": [
            "120 minutes is equal to 2.0 hours\n"
          ]
        }
      ]
    },
    {
      "cell_type": "markdown",
      "source": [
        "# Objectives\n",
        "\n",
        "Exercise 2 - Create a markdown cell with the title of the notebook. (1 pt)\n",
        "\n",
        "Exercise 3 - Create a markdown cell for an introduction. (1 pt)\n",
        "\n",
        "Exercise 4 - Create a markdown cell to list data science languages. (3 pts)\n",
        "\n",
        "Exercise 5 - Create a markdown cell to list data science libraries. (3 pts)\n",
        "\n",
        "Exercise 6 - Create a markdown cell with a table of Data Science tools. (3 pts)\n",
        "\n",
        "Exercise 7 - Create a markdown cell introducing arithmetic expression examples. (1 pt)\n",
        "\n",
        "Exercise 8 - Create a code cell to multiply and add numbers. (2 pts)\n",
        "\n",
        "Exercise 9 - Create a code cell to convert minutes to hours. (2 pts)\n",
        "\n",
        "Exercise 10 -Insert a markdown cell to list Objectives. (3 pts)\n",
        "\n",
        "Exercise 11 - Create a markdown cell to indicate the Author’s name. (2 pts)\n",
        "\n",
        "Exercise 12 - Share your notebook through GitHub (3 pts)\n",
        "\n",
        "Exercise 13 - Take a screenshot of the first page of the notebook. (1 pt)"
      ],
      "metadata": {
        "id": "DOctsQYM4FCU"
      }
    },
    {
      "cell_type": "markdown",
      "source": [
        "# Author - Yash Dhasmana"
      ],
      "metadata": {
        "id": "8Te-KCKw4Rq8"
      }
    },
    {
      "cell_type": "code",
      "source": [],
      "metadata": {
        "id": "0Z7SzIXa4UFV"
      },
      "execution_count": null,
      "outputs": []
    }
  ]
}